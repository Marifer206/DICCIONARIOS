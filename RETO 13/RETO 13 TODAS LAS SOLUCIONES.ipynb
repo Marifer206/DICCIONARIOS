{
 "cells": [
  {
   "attachments": {},
   "cell_type": "markdown",
   "metadata": {},
   "source": [
    "PUNTO # 1"
   ]
  },
  {
   "cell_type": "code",
   "execution_count": 10,
   "metadata": {},
   "outputs": [
    {
     "name": "stdout",
     "output_type": "stream",
     "text": [
      "Tu diccionario es: \n",
      "1: pollo\n",
      "2: pato\n",
      "3: gallina\n",
      "4: pavo\n",
      "5: gallo\n",
      "Los valores ordenados de manera ascendente son:\n",
      "gallina\n",
      "gallo\n",
      "pato\n",
      "pavo\n",
      "pollo\n"
     ]
    }
   ],
   "source": [
    "def todos_valores_mismo_tipo(diccionario):\n",
    "    tipos = {type(valor) for valor in diccionario.values()}  # Crea un conjunto con los tipos únicos de los valores del diccionario\n",
    "    return len(tipos) == 1  # Devuelve True si todos los valores son del mismo tipo, False de lo contrario\n",
    "\n",
    "def convertir_valor(valor):\n",
    "    if isinstance(valor, str):  # Comprueba si el valor es una cadena (str)\n",
    "        return valor  # Devuelve el valor sin cambios\n",
    "    else:\n",
    "        return str(valor)  # Convierte el valor a una cadena y lo devuelve\n",
    "\n",
    "n = int(input(\"¿Cuántos elementos tiene tu diccionario? \"))  # Solicita al usuario el número de elementos del diccionario\n",
    "diccionario = {}  # Crea un diccionario vacío\n",
    "\n",
    "for i in range(n):\n",
    "    clave = input(f\"Ingresa la clave {i+1}: \")  # Solicita al usuario ingresar la clave\n",
    "    valor = input(f\"Ingresa el valor para la clave {clave}: \")  # Solicita al usuario ingresar el valor correspondiente a la clave\n",
    "    diccionario[clave] = valor  # Agrega la clave y el valor al diccionario\n",
    "\n",
    "print(\"Tu diccionario es: \")\n",
    "for clave, valor in diccionario.items():\n",
    "    print(f\"{clave}: {valor}\")  # Imprime cada clave y valor del diccionario\n",
    "\n",
    "if todos_valores_mismo_tipo(diccionario):  # Verifica si todos los valores del diccionario son del mismo tipo\n",
    "    valores_ordenados = sorted(diccionario.values(), key=convertir_valor)\n",
    "    print(\"Los valores ordenados de manera ascendente son:\")\n",
    "    for valor in valores_ordenados:\n",
    "        print(valor)  # Imprime cada valor ordenado\n",
    "else:\n",
    "    print(\"No se pueden ordenar los valores porque no son todos del mismo tipo.\")\n"
   ]
  },
  {
   "attachments": {},
   "cell_type": "markdown",
   "metadata": {},
   "source": [
    "PUNTO # 2"
   ]
  },
  {
   "cell_type": "code",
   "execution_count": 17,
   "metadata": {},
   "outputs": [
    {
     "name": "stdout",
     "output_type": "stream",
     "text": [
      "Primer diccionario: {'1': 'pollo', '2': 'pavo'}\n",
      "Segundo diccionario: {'2': 'gallina', '3': 'gallo'}\n",
      "Resultado de la mezcla: {'1': 'pollo', '2': 'pavo', '3': 'gallo'}\n"
     ]
    }
   ],
   "source": [
    "# Función para mezclar dos diccionarios\n",
    "def mezclar_diccionarios(d1, d2):\n",
    "    nuevo_diccionario = d1.copy()  # Copiar el primer diccionario\n",
    "    for clave, valor in d2.items():  # Iterar sobre los elementos del segundo diccionario\n",
    "        if clave not in nuevo_diccionario:  # Si la clave no está en el nuevo diccionario\n",
    "            nuevo_diccionario[clave] = valor  # Agregar la clave y el valor al nuevo diccionario\n",
    "    return nuevo_diccionario\n",
    "\n",
    "# Función para crear un diccionario a partir de la entrada del usuario\n",
    "def crear_diccionarios(n):\n",
    "    diccionario = {}  # Crea un diccionario vacío\n",
    "    for i in range(n):  # Iterar n veces\n",
    "        clave = input(f\"Ingresa la clave {i+1}: \")  # Solicita al usuario ingresar la clave\n",
    "        valor = input(f\"Ingresa el valor para la clave {clave}: \")  # Solicita al usuario ingresar el valor correspondiente a la clave\n",
    "        diccionario[clave] = valor  # Agrega la clave y el valor al diccionario\n",
    "    return diccionario\n",
    "\n",
    "# Función principal que ejecuta el programa\n",
    "def main():\n",
    "    n1 = int(input(\"¿Cuántos elementos tiene el primer diccionario? \"))  # Solicita al usuario el número de elementos del primer diccionario\n",
    "    diccionario1 = crear_diccionarios(n1)  # Crea el primer diccionario\n",
    "\n",
    "    n2 = int(input(\"¿Cuántos elementos tiene el segundo diccionario? \"))  # Solicita al usuario el número de elementos del segundo diccionario\n",
    "    diccionario2 = crear_diccionarios(n2)  # Crea el segundo diccionario\n",
    "\n",
    "    resultado = mezclar_diccionarios(diccionario1, diccionario2)  # Mezcla los dos diccionarios\n",
    "\n",
    "    # Imprimir los diccionarios originales y el resultado de la mezcla\n",
    "    print(\"Primer diccionario:\", diccionario1)\n",
    "    print(\"Segundo diccionario:\", diccionario2)\n",
    "    print(\"Resultado de la mezcla:\", resultado)\n",
    "\n",
    "# Ejecuta la función main()\n",
    "if __name__ == \"__main__\":\n",
    "    main()\n"
   ]
  },
  {
   "attachments": {},
   "cell_type": "markdown",
   "metadata": {},
   "source": [
    "PUNTO # 3"
   ]
  },
  {
   "cell_type": "code",
   "execution_count": null,
   "metadata": {},
   "outputs": [],
   "source": [
    "import json\n",
    "\n",
    "# Función para leer un archivo JSON y devolver su contenido como un objeto de Python\n",
    "def leer_json(archivo):\n",
    "    with open(archivo, 'r') as f:\n",
    "        data = json.load(f)\n",
    "    return data\n",
    "\n",
    "# Función para encontrar deportistas que practican un deporte específico\n",
    "def deportistas_por_deporte(data, deporte):\n",
    "    resultado = []\n",
    "    for persona, info in data.items():  # Iterar sobre las personas en el JSON\n",
    "        if deporte in info['deportes']:  # Si el deporte está en la lista de deportes de la persona\n",
    "            nombre_completo = f\"{info['nombres']} {info['apellidos']}\"  # Crear el nombre completo\n",
    "            resultado.append(nombre_completo)  # Agregar el nombre completo a la lista de resultados\n",
    "    return resultado\n",
    "\n",
    "# Función para encontrar deportistas dentro de un rango de edades\n",
    "def deportistas_por_edad(data, edad_min, edad_max):\n",
    "    resultado = []\n",
    "    for persona, info in data.items():  # Iterar sobre las personas en el JSON\n",
    "        if edad_min <= info['edad'] <= edad_max:  # Si la edad de la persona está dentro del rango especificado\n",
    "            nombre_completo = f\"{info['nombres']} {info['apellidos']}\"  # Crear el nombre completo\n",
    "            resultado.append(nombre_completo)  # Agregar el nombre completo a la lista de resultados\n",
    "    return resultado\n",
    "\n",
    "# Función principal que ejecuta el programa\n",
    "def main():\n",
    "    archivo = 'datos.json'  # Reemplaza esto con el nombre de tu archivo JSON\n",
    "    data = leer_json(archivo)  # Leer el archivo JSON\n",
    "\n",
    "    deporte = input(\"Ingrese el deporte: \")  # Solicitar el deporte al usuario\n",
    "    deportistas = deportistas_por_deporte(data, deporte)  # Encontrar deportistas que practican el deporte ingresado\n",
    "    print(f\"Personas que practican {deporte}:\")  # Imprimir los resultados\n",
    "    for deportista in deportistas:\n",
    "        print(deportista)\n",
    "\n",
    "    edad_min = int(input(\"Ingrese la edad mínima: \"))  # Solicitar la edad mínima al usuario\n",
    "    edad_max = int(input(\"Ingrese la edad máxima: \"))  # Solicitar la edad máxima al usuario\n",
    "    deportistas = deportistas_por_edad(data, edad_min, edad_max)  # Encontrar deportistas dentro del rango de edades ingresado\n",
    "    print(f\"Personas con edades entre {edad_min} y {edad_max}:\")  # Imprimir los resultados\n",
    "    for deportista in deportistas:\n",
    "        print(deportista)\n",
    "\n",
    "# Ejecuta la función main() si el script se ejecuta como un programa principal\n",
    "if __name__ == \"__main__\":\n",
    "    main()"
   ]
  },
  {
   "attachments": {},
   "cell_type": "markdown",
   "metadata": {},
   "source": [
    "PUNTO # 4"
   ]
  },
  {
   "cell_type": "code",
   "execution_count": null,
   "metadata": {},
   "outputs": [],
   "source": []
  },
  {
   "attachments": {},
   "cell_type": "markdown",
   "metadata": {},
   "source": [
    "PUNTO # 5"
   ]
  },
  {
   "cell_type": "code",
   "execution_count": null,
   "metadata": {},
   "outputs": [],
   "source": [
    "import requests\n",
    "def obtener_datos(api_url):\n",
    "    response = requests.get(api_url)\n",
    "    json_data = response.json()\n",
    "\n",
    "    print(\"JSON:\")\n",
    "    print(json_data)\n",
    "    print()\n",
    "\n",
    "    print(\"Pares de llave-valor:\")\n",
    "    for key, value in json_data.items():\n",
    "        print(f\"Llave: {key}, Valor: {value}\")\n",
    "    print()\n",
    "\n",
    "obtener_datos(\"https://api.publicapis.org/entries\")\n",
    "obtener_datos(\"https://catfact.ninja/fact\")\n",
    "obtener_datos(\"https://api.coindesk.com/v1/bpi/currentprice.json\")"
   ]
  }
 ],
 "metadata": {
  "kernelspec": {
   "display_name": "Python 3",
   "language": "python",
   "name": "python3"
  },
  "language_info": {
   "codemirror_mode": {
    "name": "ipython",
    "version": 3
   },
   "file_extension": ".py",
   "mimetype": "text/x-python",
   "name": "python",
   "nbconvert_exporter": "python",
   "pygments_lexer": "ipython3",
   "version": "3.10.11"
  },
  "orig_nbformat": 4
 },
 "nbformat": 4,
 "nbformat_minor": 2
}
